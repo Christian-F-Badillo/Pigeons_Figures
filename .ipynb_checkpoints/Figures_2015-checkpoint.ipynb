{
 "cells": [
  {
   "cell_type": "markdown",
   "id": "9a6012af",
   "metadata": {},
   "source": [
    "# Figures Pigeon"
   ]
  },
  {
   "cell_type": "markdown",
   "id": "f7329762",
   "metadata": {},
   "source": [
    "## Pairs Description.\n",
    "\n",
    "* Pairs from **0** to **4** are RR fixed ($\\frac{1}{30}$) - RI random ($\\frac{1}{7.5}$, $\\frac{1}{15}$, $\\frac{1}{30}$, $\\frac{1}{60}$, $\\frac{1}{120}$).\n",
    "\n",
    "* Pairs drom **5** to **9** are RR random ($\\frac{1}{15}$, $\\frac{1}{30}$, $\\frac{1}{45}$, $\\frac{1}{60}$, $\\frac{1}{120}$) - RI fixed ($\\frac{1}{60}$)."
   ]
  },
  {
   "cell_type": "markdown",
   "id": "8ccf24c0",
   "metadata": {},
   "source": [
    "## Event Dictionary\n",
    "\n",
    "* Response RI = 24\n",
    "* Response RR = 44\n",
    "* Reward RI = 33\n",
    "* Reward RR=46\n",
    "* Start session with R1 (p=0.5) = 12\n",
    "* Start session with RR (p=0.5) = 13\n",
    "* Switch from RR to RI = 14\n",
    "* Switch from RI to RR = 15\n",
    "* Show pairs = 10\n",
    "* Response on TecCen to start session = 11"
   ]
  },
  {
   "cell_type": "code",
   "execution_count": 1,
   "id": "f33e83c6",
   "metadata": {},
   "outputs": [],
   "source": [
    "import pandas as pd\n",
    "import matplotlib.pyplot as plt\n",
    "import numpy as np"
   ]
  },
  {
   "cell_type": "code",
   "execution_count": 44,
   "id": "3b233266",
   "metadata": {},
   "outputs": [],
   "source": [
    "df = pd.read_csv(\"data_to_analyze.csv\")"
   ]
  },
  {
   "cell_type": "code",
   "execution_count": 14,
   "id": "7099db99",
   "metadata": {},
   "outputs": [
    {
     "name": "stdout",
     "output_type": "stream",
     "text": [
      "Sessions: ['S50' 'S51' 'S52' 'S53' 'S54' 'S55' 'S56' 'S57' 'S58' 'S59' 'S60' 'S61'\n",
      " 'S62' 'S63' 'S64' 'S65' 'S66' 'S67' 'S68' 'S69' 'S70' 'S71' 'S72' 'S73'\n",
      " 'S74' 'S75' 'S76' 'S77' 'S78' 'S79' 'S80' 'S81' 'S82' 'S83' 'S84' 'S85'\n",
      " 'S86' 'S87' 'S88' 'S89' 'S90' 'S91' 'S92' 'S93' 'S94' 'S95' 'S96' 'S97'\n",
      " 'S98' 'S99' 'S100' 'S101' 'S102' 'S103' 'S104' 'S105' 'S106' 'S107'\n",
      " 'S108' 'S109' 'S110'] \n",
      " ************************************************************ \n",
      " Birds:['S50' 'S51' 'S52' 'S53' 'S54' 'S55' 'S56' 'S57' 'S58' 'S59' 'S60' 'S61'\n",
      " 'S62' 'S63' 'S64' 'S65' 'S66' 'S67' 'S68' 'S69' 'S70' 'S71' 'S72' 'S73'\n",
      " 'S74' 'S75' 'S76' 'S77' 'S78' 'S79' 'S80' 'S81' 'S82' 'S83' 'S84' 'S85'\n",
      " 'S86' 'S87' 'S88' 'S89' 'S90' 'S91' 'S92' 'S93' 'S94' 'S95' 'S96' 'S97'\n",
      " 'S98' 'S99' 'S100' 'S101' 'S102' 'S103' 'S104' 'S105' 'S106' 'S107'\n",
      " 'S108' 'S109' 'S110'] \n",
      " ************************************************************ \n",
      " Pairs: [0 1 3 2 4 8 9 6 5 7]\n"
     ]
    }
   ],
   "source": [
    "sessions = df.session.unique()\n",
    "birds = df.bird.unique()\n",
    "pairs = df.pair.unique()\n",
    "\n",
    "print(f\"Sessions: {sessions}\",\"\\n\", \"*\"*60, \"\\n\", \n",
    "     f\"Birds:{sessions}\", \"\\n\", \"*\"*60, \"\\n\", \n",
    "     f\"Pairs: {pairs}\")"
   ]
  },
  {
   "cell_type": "code",
   "execution_count": 45,
   "id": "3cc1aae6",
   "metadata": {},
   "outputs": [
    {
     "data": {
      "text/html": [
       "<div>\n",
       "<style scoped>\n",
       "    .dataframe tbody tr th:only-of-type {\n",
       "        vertical-align: middle;\n",
       "    }\n",
       "\n",
       "    .dataframe tbody tr th {\n",
       "        vertical-align: top;\n",
       "    }\n",
       "\n",
       "    .dataframe thead th {\n",
       "        text-align: right;\n",
       "    }\n",
       "</style>\n",
       "<table border=\"1\" class=\"dataframe\">\n",
       "  <thead>\n",
       "    <tr style=\"text-align: right;\">\n",
       "      <th></th>\n",
       "      <th>session</th>\n",
       "      <th>bird</th>\n",
       "      <th>pair</th>\n",
       "      <th>time</th>\n",
       "      <th>event</th>\n",
       "    </tr>\n",
       "  </thead>\n",
       "  <tbody>\n",
       "    <tr>\n",
       "      <th>0</th>\n",
       "      <td>S50</td>\n",
       "      <td>P168</td>\n",
       "      <td>0</td>\n",
       "      <td>0.02</td>\n",
       "      <td>10</td>\n",
       "    </tr>\n",
       "    <tr>\n",
       "      <th>1</th>\n",
       "      <td>S50</td>\n",
       "      <td>P168</td>\n",
       "      <td>0</td>\n",
       "      <td>6.01</td>\n",
       "      <td>11</td>\n",
       "    </tr>\n",
       "    <tr>\n",
       "      <th>2</th>\n",
       "      <td>S50</td>\n",
       "      <td>P168</td>\n",
       "      <td>0</td>\n",
       "      <td>6.01</td>\n",
       "      <td>13</td>\n",
       "    </tr>\n",
       "    <tr>\n",
       "      <th>3</th>\n",
       "      <td>S50</td>\n",
       "      <td>P168</td>\n",
       "      <td>0</td>\n",
       "      <td>7.01</td>\n",
       "      <td>21</td>\n",
       "    </tr>\n",
       "    <tr>\n",
       "      <th>4</th>\n",
       "      <td>S50</td>\n",
       "      <td>P168</td>\n",
       "      <td>0</td>\n",
       "      <td>7.15</td>\n",
       "      <td>22</td>\n",
       "    </tr>\n",
       "  </tbody>\n",
       "</table>\n",
       "</div>"
      ],
      "text/plain": [
       "  session  bird  pair  time  event\n",
       "0     S50  P168     0  0.02     10\n",
       "1     S50  P168     0  6.01     11\n",
       "2     S50  P168     0  6.01     13\n",
       "3     S50  P168     0  7.01     21\n",
       "4     S50  P168     0  7.15     22"
      ]
     },
     "execution_count": 45,
     "metadata": {},
     "output_type": "execute_result"
    }
   ],
   "source": [
    "df.head()"
   ]
  },
  {
   "cell_type": "code",
   "execution_count": 136,
   "id": "2610aa18",
   "metadata": {},
   "outputs": [
    {
     "name": "stdout",
     "output_type": "stream",
     "text": [
      "<class 'pandas.core.frame.DataFrame'>\n",
      "Int64Index: 10916 entries, 0 to 10915\n",
      "Data columns (total 5 columns):\n",
      " #   Column   Non-Null Count  Dtype  \n",
      "---  ------   --------------  -----  \n",
      " 0   session  10916 non-null  object \n",
      " 1   bird     10916 non-null  object \n",
      " 2   pair     10916 non-null  int64  \n",
      " 3   time     10916 non-null  float64\n",
      " 4   event    10916 non-null  int64  \n",
      "dtypes: float64(1), int64(2), object(2)\n",
      "memory usage: 511.7+ KB\n"
     ]
    }
   ],
   "source": [
    "test = df[(df.bird == birds[0]) & (df.session == \"S50\")]\n",
    "test.info()"
   ]
  },
  {
   "cell_type": "code",
   "execution_count": 72,
   "id": "0fc8c600",
   "metadata": {},
   "outputs": [
    {
     "data": {
      "text/html": [
       "<div>\n",
       "<style scoped>\n",
       "    .dataframe tbody tr th:only-of-type {\n",
       "        vertical-align: middle;\n",
       "    }\n",
       "\n",
       "    .dataframe tbody tr th {\n",
       "        vertical-align: top;\n",
       "    }\n",
       "\n",
       "    .dataframe thead th {\n",
       "        text-align: right;\n",
       "    }\n",
       "</style>\n",
       "<table border=\"1\" class=\"dataframe\">\n",
       "  <thead>\n",
       "    <tr style=\"text-align: right;\">\n",
       "      <th></th>\n",
       "      <th>session</th>\n",
       "      <th>bird</th>\n",
       "      <th>pair</th>\n",
       "      <th>time</th>\n",
       "      <th>event</th>\n",
       "    </tr>\n",
       "  </thead>\n",
       "  <tbody>\n",
       "    <tr>\n",
       "      <th>0</th>\n",
       "      <td>S50</td>\n",
       "      <td>P168</td>\n",
       "      <td>0</td>\n",
       "      <td>0.02</td>\n",
       "      <td>10</td>\n",
       "    </tr>\n",
       "    <tr>\n",
       "      <th>1</th>\n",
       "      <td>S50</td>\n",
       "      <td>P168</td>\n",
       "      <td>0</td>\n",
       "      <td>6.01</td>\n",
       "      <td>11</td>\n",
       "    </tr>\n",
       "    <tr>\n",
       "      <th>2</th>\n",
       "      <td>S50</td>\n",
       "      <td>P168</td>\n",
       "      <td>0</td>\n",
       "      <td>6.01</td>\n",
       "      <td>13</td>\n",
       "    </tr>\n",
       "    <tr>\n",
       "      <th>3</th>\n",
       "      <td>S50</td>\n",
       "      <td>P168</td>\n",
       "      <td>0</td>\n",
       "      <td>7.01</td>\n",
       "      <td>21</td>\n",
       "    </tr>\n",
       "    <tr>\n",
       "      <th>4</th>\n",
       "      <td>S50</td>\n",
       "      <td>P168</td>\n",
       "      <td>0</td>\n",
       "      <td>7.15</td>\n",
       "      <td>22</td>\n",
       "    </tr>\n",
       "    <tr>\n",
       "      <th>...</th>\n",
       "      <td>...</td>\n",
       "      <td>...</td>\n",
       "      <td>...</td>\n",
       "      <td>...</td>\n",
       "      <td>...</td>\n",
       "    </tr>\n",
       "    <tr>\n",
       "      <th>82</th>\n",
       "      <td>S50</td>\n",
       "      <td>P168</td>\n",
       "      <td>0</td>\n",
       "      <td>18.92</td>\n",
       "      <td>22</td>\n",
       "    </tr>\n",
       "    <tr>\n",
       "      <th>83</th>\n",
       "      <td>S50</td>\n",
       "      <td>P168</td>\n",
       "      <td>0</td>\n",
       "      <td>18.92</td>\n",
       "      <td>24</td>\n",
       "    </tr>\n",
       "    <tr>\n",
       "      <th>84</th>\n",
       "      <td>S50</td>\n",
       "      <td>P168</td>\n",
       "      <td>0</td>\n",
       "      <td>18.92</td>\n",
       "      <td>27</td>\n",
       "    </tr>\n",
       "    <tr>\n",
       "      <th>85</th>\n",
       "      <td>S50</td>\n",
       "      <td>P168</td>\n",
       "      <td>0</td>\n",
       "      <td>18.92</td>\n",
       "      <td>29</td>\n",
       "    </tr>\n",
       "    <tr>\n",
       "      <th>86</th>\n",
       "      <td>S50</td>\n",
       "      <td>P168</td>\n",
       "      <td>0</td>\n",
       "      <td>18.92</td>\n",
       "      <td>33</td>\n",
       "    </tr>\n",
       "  </tbody>\n",
       "</table>\n",
       "<p>87 rows × 5 columns</p>\n",
       "</div>"
      ],
      "text/plain": [
       "   session  bird  pair   time  event\n",
       "0      S50  P168     0   0.02     10\n",
       "1      S50  P168     0   6.01     11\n",
       "2      S50  P168     0   6.01     13\n",
       "3      S50  P168     0   7.01     21\n",
       "4      S50  P168     0   7.15     22\n",
       "..     ...   ...   ...    ...    ...\n",
       "82     S50  P168     0  18.92     22\n",
       "83     S50  P168     0  18.92     24\n",
       "84     S50  P168     0  18.92     27\n",
       "85     S50  P168     0  18.92     29\n",
       "86     S50  P168     0  18.92     33\n",
       "\n",
       "[87 rows x 5 columns]"
      ]
     },
     "execution_count": 72,
     "metadata": {},
     "output_type": "execute_result"
    }
   ],
   "source": [
    "test.head(87)"
   ]
  },
  {
   "cell_type": "code",
   "execution_count": 69,
   "id": "6893c0a5",
   "metadata": {},
   "outputs": [
    {
     "data": {
      "text/html": [
       "<div>\n",
       "<style scoped>\n",
       "    .dataframe tbody tr th:only-of-type {\n",
       "        vertical-align: middle;\n",
       "    }\n",
       "\n",
       "    .dataframe tbody tr th {\n",
       "        vertical-align: top;\n",
       "    }\n",
       "\n",
       "    .dataframe thead th {\n",
       "        text-align: right;\n",
       "    }\n",
       "</style>\n",
       "<table border=\"1\" class=\"dataframe\">\n",
       "  <thead>\n",
       "    <tr style=\"text-align: right;\">\n",
       "      <th></th>\n",
       "      <th>session</th>\n",
       "      <th>bird</th>\n",
       "      <th>pair</th>\n",
       "      <th>time</th>\n",
       "      <th>event</th>\n",
       "    </tr>\n",
       "  </thead>\n",
       "  <tbody>\n",
       "    <tr>\n",
       "      <th>10911</th>\n",
       "      <td>S50</td>\n",
       "      <td>P168</td>\n",
       "      <td>7</td>\n",
       "      <td>2227.38</td>\n",
       "      <td>22</td>\n",
       "    </tr>\n",
       "    <tr>\n",
       "      <th>10912</th>\n",
       "      <td>S50</td>\n",
       "      <td>P168</td>\n",
       "      <td>7</td>\n",
       "      <td>2227.38</td>\n",
       "      <td>44</td>\n",
       "    </tr>\n",
       "    <tr>\n",
       "      <th>10913</th>\n",
       "      <td>S50</td>\n",
       "      <td>P168</td>\n",
       "      <td>7</td>\n",
       "      <td>2227.38</td>\n",
       "      <td>42</td>\n",
       "    </tr>\n",
       "    <tr>\n",
       "      <th>10914</th>\n",
       "      <td>S50</td>\n",
       "      <td>P168</td>\n",
       "      <td>7</td>\n",
       "      <td>2227.38</td>\n",
       "      <td>46</td>\n",
       "    </tr>\n",
       "    <tr>\n",
       "      <th>10915</th>\n",
       "      <td>S50</td>\n",
       "      <td>P168</td>\n",
       "      <td>7</td>\n",
       "      <td>2229.88</td>\n",
       "      <td>47</td>\n",
       "    </tr>\n",
       "  </tbody>\n",
       "</table>\n",
       "</div>"
      ],
      "text/plain": [
       "      session  bird  pair     time  event\n",
       "10911     S50  P168     7  2227.38     22\n",
       "10912     S50  P168     7  2227.38     44\n",
       "10913     S50  P168     7  2227.38     42\n",
       "10914     S50  P168     7  2227.38     46\n",
       "10915     S50  P168     7  2229.88     47"
      ]
     },
     "execution_count": 69,
     "metadata": {},
     "output_type": "execute_result"
    }
   ],
   "source": [
    "test.tail()"
   ]
  },
  {
   "cell_type": "code",
   "execution_count": 162,
   "id": "1ea1e671",
   "metadata": {},
   "outputs": [
    {
     "data": {
      "text/plain": [
       "10916"
      ]
     },
     "execution_count": 162,
     "metadata": {},
     "output_type": "execute_result"
    }
   ],
   "source": [
    "len_data = test.shape[0]\n",
    "len_data"
   ]
  },
  {
   "cell_type": "code",
   "execution_count": 209,
   "id": "37790669",
   "metadata": {},
   "outputs": [],
   "source": [
    "count_RI_resp = [0]\n",
    "count_RR_resp = [0]\n",
    "time = [0]\n",
    "time_diff = [0]\n",
    "resp_RI = [0]\n",
    "resp_RR = [0]\n",
    "\n",
    "counter_ri = 1\n",
    "counter_rr = 1\n",
    "\n",
    "for ii in range(len_data):\n",
    "    if test.loc[ii, \"event\"] == 33:\n",
    "        time.append(test.loc[ii, \"time\"])\n",
    "        \n",
    "        counter_ri = 0\n",
    "        count_RI_resp.append(counter_ri)\n",
    "        count_RR_resp.append(counter_rr)\n",
    "        \n",
    "        resp_RI.append(1)\n",
    "        resp_RR.append(0)\n",
    "        \n",
    "    if test.loc[ii, \"event\"] == 46:\n",
    "        time.append(test.loc[ii, \"time\"])\n",
    "        \n",
    "        counter_rr = 0\n",
    "        count_RR_resp.append(counter_rr)\n",
    "        count_RI_resp.append(counter_ri)\n",
    "        \n",
    "        resp_RI.append(0)\n",
    "        resp_RR.append(1)\n",
    "        \n",
    "    if test.loc[ii, \"event\"] == 24:\n",
    "        time.append(test.loc[ii, \"time\"])\n",
    "        \n",
    "        count_RI_resp.append(counter_ri)\n",
    "        count_RR_resp.append(counter_rr)\n",
    "        counter_ri += 1\n",
    "        \n",
    "        resp_RI.append(1)\n",
    "        resp_RR.append(0)\n",
    "        \n",
    "    if test.loc[ii, \"event\"] == 44:\n",
    "        time.append(test.loc[ii, \"time\"])\n",
    "        \n",
    "        count_RI_resp.append(counter_ri)\n",
    "        count_RR_resp.append(counter_rr)\n",
    "        counter_rr +=1\n",
    "        \n",
    "        resp_RI.append(0)\n",
    "        resp_RR.append(1)\n",
    "        \n",
    "time_diff = np.diff(np.sort(np.append(time, 0)))"
   ]
  },
  {
   "cell_type": "code",
   "execution_count": 210,
   "id": "89412177",
   "metadata": {},
   "outputs": [
    {
     "name": "stdout",
     "output_type": "stream",
     "text": [
      "2922\n",
      "2922\n",
      "2922\n",
      "2922\n",
      "2922\n",
      "2922\n"
     ]
    }
   ],
   "source": [
    "print(len(count_RI_resp))\n",
    "print(len(count_RR_resp))\n",
    "print(len(time))\n",
    "print(len(resp_RI))\n",
    "print(len(resp_RR))\n",
    "print(len(time_diff))"
   ]
  },
  {
   "cell_type": "code",
   "execution_count": 218,
   "id": "bb82d16f",
   "metadata": {},
   "outputs": [
    {
     "data": {
      "text/plain": [
       "0.0"
      ]
     },
     "execution_count": 218,
     "metadata": {},
     "output_type": "execute_result"
    }
   ],
   "source": [
    "time_diff[2921]"
   ]
  },
  {
   "cell_type": "code",
   "execution_count": 191,
   "id": "9ee804aa",
   "metadata": {},
   "outputs": [
    {
     "data": {
      "text/plain": [
       "2922"
      ]
     },
     "execution_count": 191,
     "metadata": {},
     "output_type": "execute_result"
    }
   ],
   "source": []
  }
 ],
 "metadata": {
  "kernelspec": {
   "display_name": "Python 3",
   "language": "python",
   "name": "python3"
  },
  "language_info": {
   "codemirror_mode": {
    "name": "ipython",
    "version": 3
   },
   "file_extension": ".py",
   "mimetype": "text/x-python",
   "name": "python",
   "nbconvert_exporter": "python",
   "pygments_lexer": "ipython3",
   "version": "3.10.0"
  }
 },
 "nbformat": 4,
 "nbformat_minor": 5
}
